{
 "cells": [
  {
   "cell_type": "markdown",
   "id": "2fa7988b",
   "metadata": {},
   "source": [
    "# Classification with Neural Network for Yoga poses detection"
   ]
  },
  {
   "cell_type": "markdown",
   "id": "c58554d0",
   "metadata": {},
   "source": [
    "## Import Dependencies "
   ]
  },
  {
   "cell_type": "code",
   "execution_count": 2,
   "id": "8dfcc456",
   "metadata": {},
   "outputs": [],
   "source": [
    "import numpy as np\n",
    "import pandas as pd\n",
    "import os\n",
    "import matplotlib.pyplot as plt\n",
    "import tensorflow as tf\n",
    "\n",
    "from tensorflow.keras.utils import to_categorical\n",
    "from tensorflow.keras.preprocessing.image import load_img, img_to_array\n",
    "from tensorflow.python.keras.preprocessing.image import ImageDataGenerator\n",
    "\n",
    "from sklearn.metrics import classification_report, log_loss, accuracy_score\n",
    "from sklearn.model_selection import train_test_split"
   ]
  },
  {
   "cell_type": "markdown",
   "id": "4f1f85c7",
   "metadata": {},
   "source": [
    "## Getting the data (images) and labels"
   ]
  },
  {
   "cell_type": "code",
   "execution_count": 3,
   "id": "e58effcb",
   "metadata": {},
   "outputs": [],
   "source": [
    "# Data path\n",
    "\n",
    "train_dir = 'pose_recognition_data/dataset'"
   ]
  },
  {
   "cell_type": "code",
   "execution_count": 4,
   "id": "5f7598ef",
   "metadata": {
    "scrolled": true
   },
   "outputs": [
    {
     "name": "stdout",
     "output_type": "stream",
     "text": [
      "['adho mukha svanasana', 'adho mukha vriksasana', 'agnistambhasana', 'ananda balasana', 'anantasana', 'anjaneyasana', 'ardha bhekasana', 'ardha chandrasana', 'ardha matsyendrasana', 'ardha pincha mayurasana', 'ardha uttanasana', 'ashtanga namaskara', 'astavakrasana', 'baddha konasana', 'bakasana', 'balasana', 'bhairavasana', 'bharadvajasana i', 'bhekasana', 'bhujangasana', 'bhujapidasana', 'bitilasana', 'camatkarasana', 'chakravakasana', 'chaturanga dandasana', 'dandasana', 'dhanurasana', 'durvasasana', 'dwi pada viparita dandasana', 'eka pada koundinyanasana i', 'eka pada koundinyanasana ii', 'eka pada rajakapotasana', 'eka pada rajakapotasana ii', 'ganda bherundasana', 'garbha pindasana', 'garudasana', 'gomukhasana', 'halasana', 'hanumanasana', 'janu sirsasana', 'kapotasana', 'krounchasana', 'kurmasana', 'lolasana', 'makara adho mukha svanasana', 'makarasana', 'malasana', 'marichyasana i', 'marichyasana iii', 'marjaryasana', 'matsyasana', 'mayurasana', 'natarajasana', 'padangusthasana', 'padmasana', 'parighasana', 'paripurna navasana', 'parivrtta janu sirsasana', 'parivrtta parsvakonasana', 'parivrtta trikonasana', 'parsva bakasana', 'parsvottanasana', 'pasasana', 'paschimottanasana', 'phalakasana', 'pincha mayurasana', 'prasarita padottanasana', 'purvottanasana', 'salabhasana', 'salamba bhujangasana', 'salamba sarvangasana', 'salamba sirsasana', 'savasana', 'setu bandha sarvangasana', 'simhasana', 'sukhasana', 'supta baddha konasana', 'supta matsyendrasana', 'supta padangusthasana', 'supta virasana', 'tadasana', 'tittibhasana', 'tolasana', 'tulasana', 'upavistha konasana', 'urdhva dhanurasana', 'urdhva hastasana', 'urdhva mukha svanasana', 'urdhva prasarita eka padasana', 'ustrasana', 'utkatasana', 'uttana shishosana', 'uttanasana', 'utthita ashwa sanchalanasana', 'utthita hasta padangustasana', 'utthita parsvakonasana', 'utthita trikonasana', 'vajrasana', 'vasisthasana', 'viparita karani', 'virabhadrasana i', 'virabhadrasana ii', 'virabhadrasana iii', 'virasana', 'vriksasana', 'vrischikasana', 'yoganidrasana']\n",
      "107\n"
     ]
    }
   ],
   "source": [
    "# Getting the folders name to be able to labelize the data\n",
    "\n",
    "Name=[]\n",
    "for file in os.listdir(train_dir):\n",
    "    Name+=[file]\n",
    "print(Name)\n",
    "print(len(Name))"
   ]
  },
  {
   "cell_type": "code",
   "execution_count": 6,
   "id": "63b3e22e",
   "metadata": {},
   "outputs": [],
   "source": [
    "N=[]\n",
    "for i in range(len(Name)):\n",
    "    N+=[i]\n",
    "    \n",
    "normal_mapping=dict(zip(Name,N)) \n",
    "reverse_mapping=dict(zip(N,Name)) \n",
    "\n",
    "def mapper(value):\n",
    "    return reverse_mapping[value]"
   ]
  },
  {
   "cell_type": "code",
   "execution_count": 7,
   "id": "0b6f3df4",
   "metadata": {},
   "outputs": [
    {
     "name": "stderr",
     "output_type": "stream",
     "text": [
      "C:\\Users\\rolin\\anaconda3\\envs\\vision\\lib\\site-packages\\PIL\\Image.py:962: UserWarning: Palette images with Transparency expressed in bytes should be converted to RGBA images\n",
      "  warnings.warn(\n"
     ]
    }
   ],
   "source": [
    "dataset=[]\n",
    "testset=[]\n",
    "count=0\n",
    "for file in os.listdir(train_dir):\n",
    "    t=0\n",
    "    path=os.path.join(train_dir,file)\n",
    "    for im in os.listdir(path):\n",
    "        image=load_img(os.path.join(path,im), grayscale=False, color_mode='rgb', target_size=(40,40))\n",
    "        image=img_to_array(image)\n",
    "        image=image/255.0\n",
    "        if t<60:\n",
    "            dataset+=[[image,count]]\n",
    "        else:\n",
    "            testset+=[[image,count]]\n",
    "        t+=1\n",
    "    count=count+1"
   ]
  },
  {
   "cell_type": "code",
   "execution_count": 8,
   "id": "227930fc",
   "metadata": {},
   "outputs": [],
   "source": [
    "data,labels0=zip(*dataset)\n",
    "test,testlabels0=zip(*testset)"
   ]
  },
  {
   "cell_type": "code",
   "execution_count": 9,
   "id": "5b971866",
   "metadata": {},
   "outputs": [],
   "source": [
    "labels1=to_categorical(labels0)\n",
    "labels=np.array(labels1)"
   ]
  },
  {
   "cell_type": "code",
   "execution_count": 10,
   "id": "0ce69634",
   "metadata": {},
   "outputs": [],
   "source": [
    "# Transforming the into Numerical Data\n",
    "data=np.array(data)\n",
    "test=np.array(test)"
   ]
  },
  {
   "cell_type": "code",
   "execution_count": 11,
   "id": "d623cc6b",
   "metadata": {},
   "outputs": [],
   "source": [
    "trainx,testx,trainy,testy=train_test_split(data,labels,test_size=0.2,random_state=44)"
   ]
  },
  {
   "cell_type": "code",
   "execution_count": 12,
   "id": "a17fb839",
   "metadata": {},
   "outputs": [
    {
     "name": "stdout",
     "output_type": "stream",
     "text": [
      "(4495, 40, 40, 3)\n",
      "(1124, 40, 40, 3)\n",
      "(4495, 107)\n",
      "(1124, 107)\n"
     ]
    }
   ],
   "source": [
    "print(trainx.shape)\n",
    "print(testx.shape)\n",
    "print(trainy.shape)\n",
    "print(testy.shape)"
   ]
  },
  {
   "cell_type": "code",
   "execution_count": 13,
   "id": "bf1d57e1",
   "metadata": {},
   "outputs": [],
   "source": [
    "# Data augmentation\n",
    "\n",
    "datagen = ImageDataGenerator(horizontal_flip=True,vertical_flip=True,rotation_range=20,zoom_range=0.2,\n",
    "                        width_shift_range=0.2,height_shift_range=0.2,shear_range=0.1,fill_mode=\"nearest\")"
   ]
  },
  {
   "cell_type": "code",
   "execution_count": 14,
   "id": "70bc66bd",
   "metadata": {},
   "outputs": [],
   "source": [
    "# Loading the pretrained model , here DenseNet201\n",
    "pretrained_model3 = tf.keras.applications.DenseNet201(input_shape=(40,40,3),include_top=False,weights='imagenet',pooling='avg')\n",
    "pretrained_model3.trainable = False"
   ]
  },
  {
   "cell_type": "code",
   "execution_count": 15,
   "id": "c9e3a5c6",
   "metadata": {},
   "outputs": [],
   "source": [
    "inputs3 = pretrained_model3.input\n",
    "x3 = tf.keras.layers.Dense(128, activation='relu')(pretrained_model3.output)\n",
    "outputs3 = tf.keras.layers.Dense(107, activation='softmax')(x3)\n",
    "model = tf.keras.Model(inputs=inputs3, outputs=outputs3)"
   ]
  },
  {
   "cell_type": "code",
   "execution_count": 16,
   "id": "69242f60",
   "metadata": {},
   "outputs": [],
   "source": [
    "model.compile(optimizer='adam',loss='categorical_crossentropy',metrics=['accuracy'])"
   ]
  },
  {
   "cell_type": "code",
   "execution_count": 17,
   "id": "e5d72fbd",
   "metadata": {},
   "outputs": [
    {
     "name": "stdout",
     "output_type": "stream",
     "text": [
      "Epoch 1/50\n",
      "141/141 [==============================] - 16s 112ms/step - loss: 4.5914 - accuracy: 0.0289 - val_loss: 4.3583 - val_accuracy: 0.0427\n",
      "Epoch 2/50\n",
      "141/141 [==============================] - 14s 101ms/step - loss: 4.2505 - accuracy: 0.0685 - val_loss: 3.9496 - val_accuracy: 0.0952\n",
      "Epoch 3/50\n",
      "141/141 [==============================] - 15s 103ms/step - loss: 3.9702 - accuracy: 0.0977 - val_loss: 3.7706 - val_accuracy: 0.1210\n",
      "Epoch 4/50\n",
      "141/141 [==============================] - 14s 101ms/step - loss: 3.8243 - accuracy: 0.1179 - val_loss: 3.6197 - val_accuracy: 0.1317\n",
      "Epoch 5/50\n",
      "141/141 [==============================] - 16s 110ms/step - loss: 3.7160 - accuracy: 0.1433 - val_loss: 3.5676 - val_accuracy: 0.1584\n",
      "Epoch 6/50\n",
      "141/141 [==============================] - 16s 115ms/step - loss: 3.6107 - accuracy: 0.1588 - val_loss: 3.4713 - val_accuracy: 0.1815\n",
      "Epoch 7/50\n",
      "141/141 [==============================] - 16s 117ms/step - loss: 3.5385 - accuracy: 0.1755 - val_loss: 3.4932 - val_accuracy: 0.1744\n",
      "Epoch 8/50\n",
      "141/141 [==============================] - 16s 115ms/step - loss: 3.4554 - accuracy: 0.1820 - val_loss: 3.4227 - val_accuracy: 0.1904\n",
      "Epoch 9/50\n",
      "141/141 [==============================] - 16s 110ms/step - loss: 3.3996 - accuracy: 0.1960 - val_loss: 3.3644 - val_accuracy: 0.2002\n",
      "Epoch 10/50\n",
      "141/141 [==============================] - 15s 106ms/step - loss: 3.3661 - accuracy: 0.2018 - val_loss: 3.3423 - val_accuracy: 0.1948\n",
      "Epoch 11/50\n",
      "141/141 [==============================] - 14s 101ms/step - loss: 3.3229 - accuracy: 0.2058 - val_loss: 3.3392 - val_accuracy: 0.2073\n",
      "Epoch 12/50\n",
      "141/141 [==============================] - 14s 99ms/step - loss: 3.2997 - accuracy: 0.2056 - val_loss: 3.2917 - val_accuracy: 0.2091\n",
      "Epoch 13/50\n",
      "141/141 [==============================] - 15s 108ms/step - loss: 3.2496 - accuracy: 0.2171 - val_loss: 3.2836 - val_accuracy: 0.2189\n",
      "Epoch 14/50\n",
      "141/141 [==============================] - 16s 112ms/step - loss: 3.1839 - accuracy: 0.2291 - val_loss: 3.3423 - val_accuracy: 0.2180\n",
      "Epoch 15/50\n",
      "141/141 [==============================] - 16s 113ms/step - loss: 3.1578 - accuracy: 0.2440 - val_loss: 3.2960 - val_accuracy: 0.2144\n",
      "Epoch 16/50\n",
      "141/141 [==============================] - 16s 117ms/step - loss: 3.1533 - accuracy: 0.2314 - val_loss: 3.2559 - val_accuracy: 0.2251\n",
      "Epoch 17/50\n",
      "141/141 [==============================] - 16s 114ms/step - loss: 3.1300 - accuracy: 0.2311 - val_loss: 3.2709 - val_accuracy: 0.2224\n",
      "Epoch 18/50\n",
      "141/141 [==============================] - 16s 114ms/step - loss: 3.1040 - accuracy: 0.2458 - val_loss: 3.2919 - val_accuracy: 0.2242\n",
      "Epoch 19/50\n",
      "141/141 [==============================] - 15s 110ms/step - loss: 3.0713 - accuracy: 0.2440 - val_loss: 3.1814 - val_accuracy: 0.2313\n",
      "Epoch 20/50\n",
      "141/141 [==============================] - 16s 111ms/step - loss: 3.0598 - accuracy: 0.2449 - val_loss: 3.2570 - val_accuracy: 0.2198\n",
      "Epoch 21/50\n",
      "141/141 [==============================] - 16s 111ms/step - loss: 3.0384 - accuracy: 0.2581 - val_loss: 3.2443 - val_accuracy: 0.2233\n",
      "Epoch 22/50\n",
      "141/141 [==============================] - 16s 111ms/step - loss: 2.9978 - accuracy: 0.2590 - val_loss: 3.2301 - val_accuracy: 0.2242\n",
      "Epoch 23/50\n",
      "141/141 [==============================] - 16s 111ms/step - loss: 3.0114 - accuracy: 0.2578 - val_loss: 3.2433 - val_accuracy: 0.2144\n",
      "Epoch 24/50\n",
      "141/141 [==============================] - 16s 111ms/step - loss: 2.9668 - accuracy: 0.2636 - val_loss: 3.2163 - val_accuracy: 0.2224\n",
      "Epoch 25/50\n",
      "141/141 [==============================] - 16s 117ms/step - loss: 2.9405 - accuracy: 0.2661 - val_loss: 3.2361 - val_accuracy: 0.2420\n",
      "Epoch 26/50\n",
      "141/141 [==============================] - 16s 114ms/step - loss: 2.9531 - accuracy: 0.2687 - val_loss: 3.1938 - val_accuracy: 0.2411\n",
      "Epoch 27/50\n",
      "141/141 [==============================] - 16s 112ms/step - loss: 2.8845 - accuracy: 0.2861 - val_loss: 3.1931 - val_accuracy: 0.2491\n",
      "Epoch 28/50\n",
      "141/141 [==============================] - 16s 116ms/step - loss: 2.8873 - accuracy: 0.2881 - val_loss: 3.2396 - val_accuracy: 0.2286\n",
      "Epoch 29/50\n",
      "141/141 [==============================] - 16s 113ms/step - loss: 2.8612 - accuracy: 0.2854 - val_loss: 3.2430 - val_accuracy: 0.2375\n",
      "Epoch 30/50\n",
      "141/141 [==============================] - 16s 114ms/step - loss: 2.8370 - accuracy: 0.2892 - val_loss: 3.2405 - val_accuracy: 0.2286\n",
      "Epoch 31/50\n",
      "141/141 [==============================] - 17s 118ms/step - loss: 2.8601 - accuracy: 0.2903 - val_loss: 3.1923 - val_accuracy: 0.2331\n",
      "Epoch 32/50\n",
      "141/141 [==============================] - 18s 131ms/step - loss: 2.8430 - accuracy: 0.2843 - val_loss: 3.2553 - val_accuracy: 0.2393\n",
      "Epoch 33/50\n",
      "141/141 [==============================] - 17s 118ms/step - loss: 2.8488 - accuracy: 0.3019 - val_loss: 3.2067 - val_accuracy: 0.2295\n",
      "Epoch 34/50\n",
      "141/141 [==============================] - 16s 110ms/step - loss: 2.8156 - accuracy: 0.2999 - val_loss: 3.2195 - val_accuracy: 0.2402\n",
      "Epoch 35/50\n",
      "141/141 [==============================] - 16s 110ms/step - loss: 2.8122 - accuracy: 0.3006 - val_loss: 3.2143 - val_accuracy: 0.2464\n",
      "Epoch 36/50\n",
      "141/141 [==============================] - 15s 110ms/step - loss: 2.8381 - accuracy: 0.2970 - val_loss: 3.2615 - val_accuracy: 0.2331\n",
      "Epoch 37/50\n",
      "141/141 [==============================] - 16s 110ms/step - loss: 2.8183 - accuracy: 0.3052 - val_loss: 3.2228 - val_accuracy: 0.2429\n",
      "Epoch 38/50\n",
      "141/141 [==============================] - 17s 123ms/step - loss: 2.7808 - accuracy: 0.3099 - val_loss: 3.2358 - val_accuracy: 0.2260\n",
      "Epoch 39/50\n",
      "141/141 [==============================] - 16s 115ms/step - loss: 2.7821 - accuracy: 0.2943 - val_loss: 3.1560 - val_accuracy: 0.2429\n",
      "Epoch 40/50\n",
      "141/141 [==============================] - 16s 111ms/step - loss: 2.7912 - accuracy: 0.3046 - val_loss: 3.2276 - val_accuracy: 0.2367\n",
      "Epoch 41/50\n",
      "141/141 [==============================] - 16s 113ms/step - loss: 2.7407 - accuracy: 0.3130 - val_loss: 3.2287 - val_accuracy: 0.2482\n",
      "Epoch 42/50\n",
      "141/141 [==============================] - 19s 134ms/step - loss: 2.7629 - accuracy: 0.3106 - val_loss: 3.2435 - val_accuracy: 0.2358\n",
      "Epoch 43/50\n",
      "141/141 [==============================] - 15s 103ms/step - loss: 2.7458 - accuracy: 0.3201 - val_loss: 3.3039 - val_accuracy: 0.2429\n",
      "Epoch 44/50\n",
      "141/141 [==============================] - 15s 107ms/step - loss: 2.7286 - accuracy: 0.3219 - val_loss: 3.2536 - val_accuracy: 0.2527\n",
      "Epoch 45/50\n",
      "141/141 [==============================] - 16s 111ms/step - loss: 2.7291 - accuracy: 0.3121 - val_loss: 3.2292 - val_accuracy: 0.2553\n",
      "Epoch 46/50\n",
      "141/141 [==============================] - 16s 110ms/step - loss: 2.7470 - accuracy: 0.3108 - val_loss: 3.2958 - val_accuracy: 0.2482\n",
      "Epoch 47/50\n",
      "141/141 [==============================] - 16s 113ms/step - loss: 2.7486 - accuracy: 0.3103 - val_loss: 3.2967 - val_accuracy: 0.2384\n",
      "Epoch 48/50\n",
      "141/141 [==============================] - 16s 113ms/step - loss: 2.6745 - accuracy: 0.3293 - val_loss: 3.2729 - val_accuracy: 0.2393\n",
      "Epoch 49/50\n",
      "141/141 [==============================] - 16s 114ms/step - loss: 2.6832 - accuracy: 0.3190 - val_loss: 3.2732 - val_accuracy: 0.2411\n",
      "Epoch 50/50\n",
      "141/141 [==============================] - 16s 112ms/step - loss: 2.7199 - accuracy: 0.3219 - val_loss: 3.2757 - val_accuracy: 0.2411\n"
     ]
    }
   ],
   "source": [
    "his=model.fit(datagen.flow(trainx,trainy,batch_size=32),validation_data=(testx,testy),epochs=50)"
   ]
  },
  {
   "cell_type": "code",
   "execution_count": 18,
   "id": "138b6626",
   "metadata": {},
   "outputs": [
    {
     "name": "stdout",
     "output_type": "stream",
     "text": [
      "              precision    recall  f1-score   support\n",
      "\n",
      "           0       0.25      0.80      0.38         5\n",
      "           1       0.00      0.00      0.00         9\n",
      "           2       0.33      0.14      0.20         7\n",
      "           3       0.27      0.27      0.27        11\n",
      "           4       0.38      0.62      0.48         8\n",
      "           5       0.14      0.15      0.15        13\n",
      "           6       0.00      0.00      0.00         5\n",
      "           7       0.60      0.38      0.46         8\n",
      "           8       0.38      0.50      0.43        10\n",
      "           9       0.42      0.50      0.45        10\n",
      "          10       0.00      0.00      0.00        10\n",
      "          11       0.43      0.33      0.38         9\n",
      "          12       0.23      0.70      0.35        10\n",
      "          13       0.17      0.12      0.14        17\n",
      "          14       0.38      0.38      0.38         8\n",
      "          15       0.40      0.20      0.27        10\n",
      "          16       0.25      0.25      0.25        12\n",
      "          17       0.00      0.00      0.00        14\n",
      "          18       0.50      0.11      0.18         9\n",
      "          19       0.15      0.22      0.18         9\n",
      "          20       0.11      0.08      0.09        13\n",
      "          21       0.17      0.06      0.08        18\n",
      "          22       0.11      0.22      0.15         9\n",
      "          23       0.26      0.50      0.34        10\n",
      "          24       0.67      0.27      0.38        15\n",
      "          25       0.50      0.50      0.50        12\n",
      "          26       0.20      0.18      0.19        11\n",
      "          27       0.14      0.29      0.19         7\n",
      "          28       0.38      0.25      0.30        12\n",
      "          29       0.00      0.00      0.00        10\n",
      "          30       0.25      0.18      0.21        11\n",
      "          31       0.08      0.09      0.09        11\n",
      "          32       0.17      0.07      0.10        14\n",
      "          33       0.00      0.00      0.00        10\n",
      "          34       0.33      0.45      0.38        11\n",
      "          35       0.10      0.25      0.14         4\n",
      "          36       0.43      0.33      0.38         9\n",
      "          37       0.18      0.44      0.26         9\n",
      "          38       0.19      0.38      0.25         8\n",
      "          39       0.22      0.18      0.20        11\n",
      "          40       0.21      0.29      0.24        14\n",
      "          41       0.00      0.00      0.00        16\n",
      "          42       0.11      0.20      0.14         5\n",
      "          43       1.00      0.11      0.20         9\n",
      "          44       0.50      0.33      0.40         6\n",
      "          45       0.14      0.20      0.17        10\n",
      "          46       0.27      0.20      0.23        15\n",
      "          47       0.00      0.00      0.00         7\n",
      "          48       0.08      0.33      0.12         3\n",
      "          49       0.33      0.25      0.29         8\n",
      "          50       0.17      0.09      0.12        11\n",
      "          51       0.00      0.00      0.00        10\n",
      "          52       0.25      0.10      0.14        10\n",
      "          53       0.17      0.50      0.25         2\n",
      "          54       0.18      0.33      0.23        15\n",
      "          55       0.67      0.12      0.20        17\n",
      "          56       0.62      0.31      0.42        16\n",
      "          57       0.23      0.30      0.26        10\n",
      "          58       0.00      0.00      0.00         7\n",
      "          59       0.00      0.00      0.00        12\n",
      "          60       0.33      0.25      0.29        16\n",
      "          61       0.00      0.00      0.00         9\n",
      "          62       0.28      0.56      0.37         9\n",
      "          63       0.30      0.30      0.30        10\n",
      "          64       0.00      0.00      0.00        12\n",
      "          65       0.33      0.20      0.25         5\n",
      "          66       0.33      0.75      0.46        12\n",
      "          67       0.15      0.57      0.24         7\n",
      "          68       0.15      0.18      0.17        11\n",
      "          69       0.17      0.08      0.11        13\n",
      "          70       0.36      0.50      0.42         8\n",
      "          71       0.33      0.14      0.20        14\n",
      "          72       0.00      0.00      0.00         8\n",
      "          73       0.20      0.27      0.23        11\n",
      "          74       0.50      0.27      0.35        11\n",
      "          75       0.14      0.43      0.21         7\n",
      "          76       0.50      0.08      0.14        12\n",
      "          77       0.33      0.08      0.13        12\n",
      "          78       0.00      0.00      0.00        10\n",
      "          79       0.36      0.44      0.40         9\n",
      "          80       0.15      0.42      0.22        12\n",
      "          81       0.14      0.09      0.11        11\n",
      "          82       0.33      0.27      0.30        15\n",
      "          83       0.08      0.17      0.11         6\n",
      "          84       0.50      0.40      0.44        10\n",
      "          85       0.17      0.45      0.25        11\n",
      "          86       0.17      0.14      0.15         7\n",
      "          87       0.20      0.38      0.26         8\n",
      "          88       0.12      0.07      0.09        14\n",
      "          89       0.38      0.20      0.26        15\n",
      "          90       0.22      0.13      0.17        15\n",
      "          91       0.50      0.19      0.27        16\n",
      "          92       0.22      0.27      0.24        15\n",
      "          93       0.00      0.00      0.00         3\n",
      "          94       0.00      0.00      0.00        12\n",
      "          95       0.42      0.57      0.48        14\n",
      "          96       0.38      0.57      0.46        14\n",
      "          97       0.38      0.45      0.42        11\n",
      "          98       0.00      0.00      0.00         8\n",
      "          99       0.25      0.08      0.12        12\n",
      "         100       0.83      0.36      0.50        14\n",
      "         101       0.35      0.89      0.50         9\n",
      "         102       0.50      0.36      0.42        14\n",
      "         103       0.10      0.18      0.13        11\n",
      "         104       0.37      0.58      0.45        12\n",
      "         105       0.00      0.00      0.00         9\n",
      "         106       0.09      0.25      0.13         8\n",
      "\n",
      "    accuracy                           0.24      1124\n",
      "   macro avg       0.25      0.25      0.22      1124\n",
      "weighted avg       0.26      0.24      0.22      1124\n",
      "\n"
     ]
    },
    {
     "name": "stderr",
     "output_type": "stream",
     "text": [
      "C:\\Users\\rolin\\anaconda3\\envs\\vision\\lib\\site-packages\\sklearn\\metrics\\_classification.py:1248: UndefinedMetricWarning: Precision and F-score are ill-defined and being set to 0.0 in labels with no predicted samples. Use `zero_division` parameter to control this behavior.\n",
      "  _warn_prf(average, modifier, msg_start, len(result))\n",
      "C:\\Users\\rolin\\anaconda3\\envs\\vision\\lib\\site-packages\\sklearn\\metrics\\_classification.py:1248: UndefinedMetricWarning: Precision and F-score are ill-defined and being set to 0.0 in labels with no predicted samples. Use `zero_division` parameter to control this behavior.\n",
      "  _warn_prf(average, modifier, msg_start, len(result))\n",
      "C:\\Users\\rolin\\anaconda3\\envs\\vision\\lib\\site-packages\\sklearn\\metrics\\_classification.py:1248: UndefinedMetricWarning: Precision and F-score are ill-defined and being set to 0.0 in labels with no predicted samples. Use `zero_division` parameter to control this behavior.\n",
      "  _warn_prf(average, modifier, msg_start, len(result))\n"
     ]
    }
   ],
   "source": [
    "y_pred=model.predict(testx)\n",
    "pred=np.argmax(y_pred,axis=1)\n",
    "ground = np.argmax(testy,axis=1)\n",
    "print(classification_report(ground,pred))"
   ]
  },
  {
   "cell_type": "code",
   "execution_count": 19,
   "id": "1001afce",
   "metadata": {},
   "outputs": [
    {
     "data": {
      "image/png": "[encoded data removed]",
      "text/plain": [
       "<Figure size 432x288 with 1 Axes>"
      ]
     },
     "metadata": {
      "needs_background": "light"
     },
     "output_type": "display_data"
    },
    {
     "data": {
      "text/plain": [
       "<Figure size 432x288 with 0 Axes>"
      ]
     },
     "metadata": {},
     "output_type": "display_data"
    }
   ],
   "source": [
    "#Checking accuracy of our model\n",
    "\n",
    "get_acc = his.history['accuracy']\n",
    "value_acc = his.history['val_accuracy']\n",
    "get_loss = his.history['loss']\n",
    "validation_loss = his.history['val_loss']\n",
    "\n",
    "epochs = range(len(get_acc))\n",
    "plt.plot(epochs, get_acc, 'r', label='Accuracy of Training data')\n",
    "plt.plot(epochs, value_acc, 'b', label='Accuracy of Validation data')\n",
    "plt.title('Training vs validation accuracy')\n",
    "plt.legend(loc=0)\n",
    "plt.figure()\n",
    "plt.show()"
   ]
  },
  {
   "cell_type": "code",
   "execution_count": 20,
   "id": "b637d1ea",
   "metadata": {},
   "outputs": [
    {
     "data": {
      "image/png": "[encoded data removed]",
      "text/plain": [
       "<Figure size 432x288 with 1 Axes>"
      ]
     },
     "metadata": {
      "needs_background": "light"
     },
     "output_type": "display_data"
    },
    {
     "data": {
      "text/plain": [
       "<Figure size 432x288 with 0 Axes>"
      ]
     },
     "metadata": {},
     "output_type": "display_data"
    }
   ],
   "source": [
    "# Checking the loss of data\n",
    "\n",
    "epochs = range(len(get_loss))\n",
    "plt.plot(epochs, get_loss, 'r', label='Loss of Training data')\n",
    "plt.plot(epochs, validation_loss, 'b', label='Loss of Validation data')\n",
    "plt.title('Training vs validation loss')\n",
    "plt.legend(loc=0)\n",
    "plt.figure()\n",
    "plt.show()"
   ]
  },
  {
   "cell_type": "code",
   "execution_count": 21,
   "id": "ffe1070a",
   "metadata": {},
   "outputs": [
    {
     "data": {
      "image/png": "[encoded data removed]",
      "text/plain": [
       "<PIL.Image.Image image mode=RGB size=40x40 at 0x22CAE8445B0>"
      ]
     },
     "execution_count": 21,
     "metadata": {},
     "output_type": "execute_result"
    }
   ],
   "source": [
    "load_img(\"pose_recognition_data/dataset/adho mukha svanasana/95. downward-facing-dog-pose.png\",target_size=(40,40))"
   ]
  },
  {
   "cell_type": "code",
   "execution_count": 22,
   "id": "ed1096b7",
   "metadata": {},
   "outputs": [],
   "source": [
    "image = load_img(\"pose_recognition_data/dataset/adho mukha svanasana/95. downward-facing-dog-pose.png\",target_size=(40,40))\n",
    "\n",
    "image=img_to_array(image) \n",
    "image=image/255.0\n",
    "prediction_image=np.array(image)\n",
    "prediction_image= np.expand_dims(image, axis=0)"
   ]
  },
  {
   "cell_type": "code",
   "execution_count": 27,
   "id": "b158927f",
   "metadata": {},
   "outputs": [
    {
     "name": "stdout",
     "output_type": "stream",
     "text": [
      "Prediction is adho mukha svanasana.\n"
     ]
    }
   ],
   "source": [
    "prediction=model.predict(prediction_image)\n",
    "value=np.argmax(prediction)\n",
    "move_name=mapper(value)\n",
    "print(\"Prediction is {}.\".format(move_name))"
   ]
  },
  {
   "cell_type": "code",
   "execution_count": 24,
   "id": "683d0cf5",
   "metadata": {},
   "outputs": [
    {
     "name": "stdout",
     "output_type": "stream",
     "text": [
      "(375, 40, 40, 3)\n",
      "(375, 107)\n"
     ]
    }
   ],
   "source": [
    "print(test.shape)\n",
    "pred2=model.predict(test)\n",
    "print(pred2.shape)\n",
    "\n",
    "PRED=[]\n",
    "for item in pred2:\n",
    "    value2=np.argmax(item)      \n",
    "    PRED+=[value2]"
   ]
  },
  {
   "cell_type": "code",
   "execution_count": 25,
   "id": "e85a3b2b",
   "metadata": {},
   "outputs": [],
   "source": [
    "ANS=testlabels0"
   ]
  },
  {
   "cell_type": "code",
   "execution_count": 26,
   "id": "e6d608ce",
   "metadata": {},
   "outputs": [
    {
     "name": "stdout",
     "output_type": "stream",
     "text": [
      "0.27466666666666667\n"
     ]
    }
   ],
   "source": [
    "accuracy=accuracy_score(ANS,PRED)\n",
    "print(accuracy)"
   ]
  },
  {
   "cell_type": "code",
   "execution_count": null,
   "id": "d9b5b809",
   "metadata": {},
   "outputs": [],
   "source": []
  }
 ],
 "metadata": {
  "kernelspec": {
   "display_name": "Python 3",
   "language": "python",
   "name": "python3"
  },
  "language_info": {
   "codemirror_mode": {
    "name": "ipython",
    "version": 3
   },
   "file_extension": ".py",
   "mimetype": "text/x-python",
   "name": "python",
   "nbconvert_exporter": "python",
   "pygments_lexer": "ipython3",
   "version": "3.8.8"
  }
 },
 "nbformat": 4,
 "nbformat_minor": 5
}
